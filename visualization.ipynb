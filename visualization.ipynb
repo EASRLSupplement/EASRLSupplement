{
 "cells": [
  {
   "cell_type": "code",
   "execution_count": null,
   "metadata": {
    "scrolled": false
   },
   "outputs": [],
   "source": [
    "import pickle\n",
    "import numpy as np\n",
    "import holoviews as hv\n",
    "from holoviews import opts\n",
    "hv.extension('bokeh', 'matplotlib')\n",
    "\n",
    "down_only_segmented = pickle.load(open('./data/down_only_segmented.pickle','rb'))\n",
    "pushed_down_only_segmented = pickle.load(open('./data/pushed_down_only_segmented.pickle','rb'))\n",
    "down_up_segmented = pickle.load(open('./data/down_up_segmented.pickle','rb'))\n",
    "pushed_down_up_segmented = pickle.load(open('./data/pushed_down_up_segmented.pickle','rb'))\n",
    "robot_hand_segmented = pickle.load(open('./data/robot_hand_segmented.pickle','rb'))\n",
    "down_up_lt = pickle.load(open('./data/down_up_lt.pickle','rb'))\n",
    "down_only_lt = pickle.load(open('./data/down_only_lt.pickle','rb'))\n",
    "pushed_down_up_lt = pickle.load(open('./data/pushed_down_up_lt.pickle','rb'))\n",
    "pushed_down_only_lt = pickle.load(open('./data/pushed_down_only_lt.pickle','rb'))\n",
    "\n",
    "\n",
    "def get_vlines(cut_point):\n",
    "    try:\n",
    "        vlines = hv.VLine(cut_point[0])\n",
    "        for cp in cut_point[1:]: vlines *= hv.VLine(cp)\n",
    "    except: pass\n",
    "    try: return(vlines)\n",
    "    except: return(hv.VLine(-1.0))\n",
    "def plot_data(d, cut_point):\n",
    "    return((get_vlines(cut_point)\n",
    "            *hv.Curve(d[0],'step','action',label='x_acc')*hv.Curve(d[1],'step','action',label='y_acc')\n",
    "            *hv.Curve(d[2],'step','action',label='action_on')*hv.Curve(d[3],'step','action',label='action_off')))\n",
    "def plot_hand(d, cut_point):\n",
    "    return((get_vlines(cut_point)\n",
    "            *hv.Curve(d[0],'step','action',label='x_vel')*hv.Curve(d[1],'step','action',label='y_vel')\n",
    "            *hv.Curve(d[2],'step','action',label='rotation')*hv.Curve(d[3],'step','action',label='grasp')\n",
    "            *hv.Curve(d[4],'step','action',label='action_on')*hv.Curve(d[5],'step','action',label='action_off')))\n",
    "def plot_segment(dist, cut_point):\n",
    "    point = [(cp, dist[cp]) for cp in cut_point]\n",
    "    return((hv.Curve(dist,'step','distance',label='distance'))\n",
    "           *hv.Scatter(point,'step','distance',label='segmentation point')\n",
    "           *get_vlines(cut_point))\n",
    "\n",
    "def plot(data, dtype):\n",
    "    if dtype == 'ContWorld':plot_func = plot_data\n",
    "    else: plot_func = plot_hand\n",
    "    xs = data['xs']\n",
    "    dist = data['dists']\n",
    "    cut_point = data['cut_points']\n",
    "    return(hv.HoloMap({i: hv.Layout(plot_func(xs[i], cut_point[i]) + plot_segment(dist[i], cut_point[i])).cols(1) for i in range(len(xs))}, 'Index'))"
   ]
  },
  {
   "cell_type": "markdown",
   "metadata": {},
   "source": [
    "## 1 Expert actions\n",
    "This section exhibits all expert actions. You can check full dataset by sliding index.\n",
    "\n",
    "### 1.1 ContinuousWorld\n",
    "#### 1.1.1 Down&Up"
   ]
  },
  {
   "cell_type": "code",
   "execution_count": null,
   "metadata": {
    "scrolled": false
   },
   "outputs": [],
   "source": [
    "%opts Curve [width=600 height=250] Overlay [legend_position='right']\n",
    "%opts Curve (alpha=0.5)\n",
    "%opts Scatter (color='purple', size=10, alpha=0.5)\n",
    "%opts VLine (color='purple', line_alpha=0.5)\n",
    "plot(down_up_segmented, 'ContWorld')"
   ]
  },
  {
   "cell_type": "markdown",
   "metadata": {},
   "source": [
    "#### 1.1.2 DownOnly"
   ]
  },
  {
   "cell_type": "code",
   "execution_count": null,
   "metadata": {},
   "outputs": [],
   "source": [
    "%opts Curve [width=600 height=250] Overlay [legend_position='right']\n",
    "%opts Curve (alpha=0.5)\n",
    "%opts Scatter (color='purple', size=10, alpha=0.5)\n",
    "%opts VLine (color='purple', line_alpha=0.5)\n",
    "plot(down_only_segmented, 'ContWorld')"
   ]
  },
  {
   "cell_type": "markdown",
   "metadata": {},
   "source": [
    "#### 1.1.3 PushedDown&Up"
   ]
  },
  {
   "cell_type": "code",
   "execution_count": null,
   "metadata": {},
   "outputs": [],
   "source": [
    "%opts Curve [width=600 height=250] Overlay [legend_position='right']\n",
    "%opts Curve (alpha=0.5)\n",
    "%opts Scatter (color='purple', size=10, alpha=0.5)\n",
    "%opts VLine (color='purple', line_alpha=0.5)\n",
    "plot(pushed_down_up_segmented, 'ContWorld')"
   ]
  },
  {
   "cell_type": "markdown",
   "metadata": {},
   "source": [
    "#### 1.1.4 PushedDownOnly"
   ]
  },
  {
   "cell_type": "code",
   "execution_count": null,
   "metadata": {},
   "outputs": [],
   "source": [
    "%opts Curve [width=600 height=250] Overlay [legend_position='right']\n",
    "%opts Curve (alpha=0.5)\n",
    "%opts Scatter (color='purple', size=10, alpha=0.5)\n",
    "%opts VLine (color='purple', line_alpha=0.5)\n",
    "plot(pushed_down_only_segmented, 'ContWorld')"
   ]
  },
  {
   "cell_type": "markdown",
   "metadata": {},
   "source": [
    "### 1.2 RobotHand"
   ]
  },
  {
   "cell_type": "code",
   "execution_count": null,
   "metadata": {},
   "outputs": [],
   "source": [
    "%opts Curve [width=600 height=250] Overlay [legend_position='right']\n",
    "%opts Curve (alpha=0.5)\n",
    "%opts Scatter (color='purple', size=10, alpha=0.5)\n",
    "plot(robot_hand_segmented, 'RobotHand')"
   ]
  },
  {
   "cell_type": "markdown",
   "metadata": {},
   "source": [
    "## 2 Disentangled representation learning\n",
    "This section exhibits interactive visualization of latent traversal. You can slide parameters to change value of only one latent variable, which changes the reconsturcted output. First plot exhibits original action, second one exhibits reconstruct of the original action by FAVAE, and last one exhibits latent traversal.\n",
    "\n",
    "You can change three parameters: *Ladder Index*, *Z Index*, and *Z Value*. *Ladder Index* and *Z Index* choose which latent variable to change and *Z Value* changes value of the chosen latent variable.\n",
    "\n",
    "\\* Any *Z Index* that exceeds maximum number of Z in each ladder is invalid; i.e, *Z Index*=1 in *Ladder Index*=2 is invalid and just follows plots of previous *Z Index*, because that *Z Index* does not exist.\n",
    "\n",
    "\\* Maximum number of *Z Index* of each ladder is: 4 for ladder 0, 2 for ladder 1, and 1 for ladder 2."
   ]
  },
  {
   "cell_type": "code",
   "execution_count": null,
   "metadata": {},
   "outputs": [],
   "source": [
    "data_idx_range = [0]\n",
    "#ladder_idx_range = [0,1,2]\n",
    "#z_idx_range_cont = [[0,1,2,3],[0,1],[0]]\n",
    "#z_idx_range_robot = [[0,1,2,3,4,5,6,7,8,9,10,11],[0,1,2,3,4,5,6,7],[0,1,2,3]]\n",
    "ladder_idx_range = [1,2,3]\n",
    "z_idx_range_cont = [[1,2,3,4],[1,2],[1]]\n",
    "z_idx_range_robot = [[1,2,3,4,5,6,7,8,9,10,11,12],[1,2,3,4,5,6,7,8],[1,2,3,4]]\n",
    "z_idx_max_cont = 4\n",
    "z_idx_max_robot = 12\n",
    "Z_MIN = -3.0\n",
    "Z_MAX = 3.0\n",
    "PLOT_Z_NUM = 13 \n",
    "z_vals = [Z_MIN+(Z_MAX-Z_MIN)/(PLOT_Z_NUM-1)*i for i in range(PLOT_Z_NUM)]\n",
    "data_idx_carrier = np.asarray(data_idx_range)\n",
    "ladder_idx_carrier = np.asarray(ladder_idx_range)\n",
    "z_idx_carrier = np.asarray(list(range(1,5)))\n",
    "z_val_carrier = z_vals\n",
    "\n",
    "def reconstruct(datazip):\n",
    "    shifted_data = [[[[] for k in z_idx_range_cont[j-1]] for j in ladder_idx_range] for i in data_idx_range]\n",
    "    for d in datazip:\n",
    "        data_idx=d['data_idx']\n",
    "        if data_idx in data_idx_range:\n",
    "            z_vals=d['z_vals']\n",
    "            ladder_idx=d['ladder_idx']\n",
    "            z_idx=d['z_idx']\n",
    "            data=d['data']\n",
    "            recon=d['recon']\n",
    "            shifted_recons=d['shifted_recons']\n",
    "            shifted_data[data_idx][ladder_idx][z_idx] = shifted_recons\n",
    "    return(data, recon, shifted_data)\n",
    "\n",
    "\n",
    "%output max_frames=2000\n",
    "def plot_(sr,title,null=False):\n",
    "    if not null:\n",
    "        lt = hv.Curve(sr[0],'step',title,label='x_acc')*hv.Curve(sr[1],'step',title,label='y_acc')*hv.Curve(sr[2],'step',title,label='action_on')*hv.Curve(sr[3],'step',title,label='action_off')\n",
    "    else:\n",
    "        null_sr = np.zeros_like(sr)\n",
    "        lt = hv.Curve(null_sr[0],'step',title,label='x_acc')*hv.Curve(null_sr[1],'step',title,label='y_acc')*hv.Curve(null_sr[2],'step',title,label='action_on')*hv.Curve(null_sr[3],'step',title,label='action_off')\n",
    "    return(lt)\n",
    "\n",
    "def plot_lt(data, recon, shifted_data):\n",
    "    curve_dict = {(\n",
    "                   ladder_idx, \n",
    "                   z_idx, \n",
    "                   z_val\n",
    "                   ): plot_(shifted_data\\\n",
    "                                 [0]\\\n",
    "                                 [ladder_idx-1]\\\n",
    "                                 [min(z_idx-1,len(z_idx_range_cont[ladder_idx-1])-1)]\\\n",
    "                                 [z_val_carrier.index(z_val)-1][0],\n",
    "                            title='latent traversal',\n",
    "                            null=True if z_idx-1 > len(z_idx_range_cont[ladder_idx-1])-1 else False\n",
    "                            ) \n",
    "                for ladder_idx in ladder_idx_carrier \n",
    "                for z_idx in z_idx_carrier\n",
    "                for z_val in z_val_carrier}\n",
    "    kdims = [\n",
    "            hv.Dimension(('ladder_idx_carrier', 'Ladder Index'), default=1),\n",
    "            hv.Dimension(('z_idx_carrier', 'Z Index'), default=1),\n",
    "            hv.Dimension(('z_val_carrier', 'Z Value'), default=0)]\n",
    "    org = plot_(data[0],'original action')\n",
    "    rec = plot_(recon[0],'reconstruction')\n",
    "    hm = org + rec + hv.HoloMap(curve_dict, kdims=kdims)\n",
    "    return(hm.cols(1))"
   ]
  },
  {
   "cell_type": "markdown",
   "metadata": {},
   "source": [
    "### 2.1 Down&Up"
   ]
  },
  {
   "cell_type": "code",
   "execution_count": null,
   "metadata": {
    "scrolled": false
   },
   "outputs": [],
   "source": [
    "%opts Curve [width=600 height=150] Overlay [legend_position='right']\n",
    "%opts Curve (alpha=0.5)\n",
    "data, recon, shifted_data = reconstruct(down_up_lt)\n",
    "plot_lt(data, recon, shifted_data)"
   ]
  },
  {
   "cell_type": "markdown",
   "metadata": {},
   "source": [
    "### 2.2 DownOnly"
   ]
  },
  {
   "cell_type": "code",
   "execution_count": null,
   "metadata": {
    "scrolled": false
   },
   "outputs": [],
   "source": [
    "%opts Curve [width=600 height=150] Overlay [legend_position='right']\n",
    "%opts Curve (alpha=0.5)\n",
    "data, recon, shifted_data = reconstruct(down_only_lt)\n",
    "plot_lt(data, recon, shifted_data)"
   ]
  },
  {
   "cell_type": "markdown",
   "metadata": {},
   "source": [
    "### 2.3 PushedDown&Up"
   ]
  },
  {
   "cell_type": "code",
   "execution_count": null,
   "metadata": {},
   "outputs": [],
   "source": [
    "%opts Curve [width=600 height=150] Overlay [legend_position='right']\n",
    "%opts Curve (alpha=0.5)\n",
    "data, recon, shifted_data = reconstruct(pushed_down_up_lt)\n",
    "plot_lt(data, recon, shifted_data)"
   ]
  },
  {
   "cell_type": "markdown",
   "metadata": {},
   "source": [
    "### 2.4 PushedDownOnly"
   ]
  },
  {
   "cell_type": "code",
   "execution_count": null,
   "metadata": {},
   "outputs": [],
   "source": [
    "%opts Curve [width=600 height=150] Overlay [legend_position='right']\n",
    "%opts Curve (alpha=0.5)\n",
    "data, recon, shifted_data = reconstruct(pushed_down_only_lt)\n",
    "plot_lt(data, recon, shifted_data)"
   ]
  },
  {
   "cell_type": "code",
   "execution_count": null,
   "metadata": {},
   "outputs": [],
   "source": [
    "from IPython.display import HTML\n",
    "\n",
    "HTML('''<script>\n",
    "code_show_err=true; \n",
    "function code_toggle_err() {\n",
    " if (code_show_err){\n",
    " $('div.output_stderr').hide();\n",
    " } else {\n",
    " $('div.output_stderr').show();\n",
    " }\n",
    " code_show_err = !code_show_err\n",
    "} \n",
    "$( document ).ready(code_toggle_err);\n",
    "</script>\n",
    "To toggle on/off output_stderr, click <a href=\"javascript:code_toggle_err()\">here</a>.''')"
   ]
  },
  {
   "cell_type": "code",
   "execution_count": null,
   "metadata": {
    "scrolled": true
   },
   "outputs": [],
   "source": [
    "from IPython.display import HTML\n",
    "\n",
    "HTML('''<script>\n",
    "code_show=true; \n",
    "function code_toggle() {\n",
    " if (code_show){\n",
    " $('div.input').hide();\n",
    " } else {\n",
    " $('div.input').show();\n",
    " }\n",
    " code_show = !code_show\n",
    "} \n",
    "$( document ).ready(code_toggle);\n",
    "</script>\n",
    "<form action=\"javascript:code_toggle()\"><input type=\"submit\" value=\"Click here to toggle on/off the raw code.\"></form>''')"
   ]
  }
 ],
 "metadata": {
  "kernelspec": {
   "display_name": "Python 3",
   "language": "python",
   "name": "python3"
  },
  "language_info": {
   "codemirror_mode": {
    "name": "ipython",
    "version": 3
   },
   "file_extension": ".py",
   "mimetype": "text/x-python",
   "name": "python",
   "nbconvert_exporter": "python",
   "pygments_lexer": "ipython3",
   "version": "3.5.2"
  }
 },
 "nbformat": 4,
 "nbformat_minor": 2
}
